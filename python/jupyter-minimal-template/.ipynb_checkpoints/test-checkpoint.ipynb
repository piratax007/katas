{
 "cells": [
  {
   "cell_type": "markdown",
   "id": "b13a1356-4368-46af-925b-2d82b06c2004",
   "metadata": {},
   "source": [
    "# This is a test"
   ]
  },
  {
   "cell_type": "code",
   "execution_count": 1,
   "id": "07f510bc-e0d7-4efa-a426-0c8e62a50f50",
   "metadata": {},
   "outputs": [
    {
     "data": {
      "text/plain": [
       "4"
      ]
     },
     "execution_count": 1,
     "metadata": {},
     "output_type": "execute_result"
    }
   ],
   "source": [
    "3 + 1"
   ]
  }
 ],
 "metadata": {
  "kernelspec": {
   "display_name": "Python 3 (ipykernel)",
   "language": "python",
   "name": "python3"
  },
  "language_info": {
   "codemirror_mode": {
    "name": "ipython",
    "version": 3
   },
   "file_extension": ".py",
   "mimetype": "text/x-python",
   "name": "python",
   "nbconvert_exporter": "python",
   "pygments_lexer": "ipython3",
   "version": "3.11.4"
  }
 },
 "nbformat": 4,
 "nbformat_minor": 5
}
